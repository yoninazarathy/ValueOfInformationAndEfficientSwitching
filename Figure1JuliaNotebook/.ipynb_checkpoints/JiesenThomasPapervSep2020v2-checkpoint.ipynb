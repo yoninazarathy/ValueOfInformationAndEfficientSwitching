{
 "cells": [
  {
   "cell_type": "code",
   "execution_count": null,
   "metadata": {},
   "outputs": [],
   "source": [
    "import Pkg; Pkg.add(\"Distributions\")\n",
    "Pkg.add(\"Random\")\n",
    "Pkg.add(\"Plots\")\n",
    "Pkg.add(\"LaTeXStrings\")\n",
    "Pkg.add(\"PyPlot\")\n",
    "Pkg.add(\"Polynomials\")"
   ]
  },
  {
   "cell_type": "markdown",
   "metadata": {},
   "source": [
    "# Basic simulation - Call Gapping"
   ]
  },
  {
   "cell_type": "code",
   "execution_count": 3,
   "metadata": {},
   "outputs": [
    {
     "data": {
      "text/plain": [
       "simTau (generic function with 2 methods)"
      ]
     },
     "execution_count": 3,
     "metadata": {},
     "output_type": "execute_result"
    }
   ],
   "source": [
    "using Distributions, Random\n",
    "\n",
    "function simTau(N,tau,lambda,mu,c,tMax, seed = 1974)\n",
    "    Random.seed!(seed)\n",
    "    state = [0 for _ in 1:N]\n",
    "    currentArm = 1\n",
    "    allowedToSwitch = false\n",
    "    t = 0.0\n",
    "    reward = 0.0\n",
    "\n",
    "    megaValue = 0.0\n",
    "    \n",
    "    rLam() = rand(Exponential(1/lambda))\n",
    "    rMu() = rand(Exponential(1/mu))\n",
    "    nextArm(i) = (i%N)+1\n",
    "\n",
    "    #N+1 event types in this discrete event simulation\n",
    "    timeJumps = [rLam() for _ in 1:N] \n",
    "    push!(timeJumps,tau) #The last one is for the call gapping\n",
    "\n",
    "    #debug\n",
    "    regCycles = []\n",
    "    prevRegTime = 0.0\n",
    "\n",
    "    #debug\n",
    "    switchCounts =[]\n",
    "    switchCounter = 0\n",
    "\n",
    "    #debug\n",
    "    timeInOne = zeros(N)\n",
    "    \n",
    "    #debug\n",
    "    timeOfLastSwitchToBadArm = Inf\n",
    "    w0Cycles = []\n",
    "    \n",
    "    while t<tMax\n",
    "       tLast = t \n",
    "       t,i = findmin(timeJumps)\n",
    "       reward += state[currentArm]*(t-tLast)\n",
    "\n",
    "       timeInOne += (t-tLast)*state[1:N]\n",
    "        \n",
    "       megaValue += (t-tLast)*sum(state) \n",
    "        \n",
    "       if i == N+1 #call gapping timer up\n",
    "            #println(\"$(t),$(currentArm): gap reached\")\n",
    "            if state[currentArm] == 0\n",
    "                #println(\"$(t),$(currentArm): switching from $(currentArm)\")\n",
    "                switchCounter += 1\n",
    "                if timeOfLastSwitchToBadArm != Inf\n",
    "                       push!(w0Cycles,t-timeOfLastSwitchToBadArm)\n",
    "                       timeOfLastSwitchToBadArm = Inf\n",
    "                end\n",
    "                if(state[nextArm(currentArm)] == 0)\n",
    "                   timeOfLastSwitchToBadArm = t \n",
    "                   push!(regCycles,t-prevRegTime) \n",
    "                    prevRegTime = t\n",
    "                    push!(switchCounts,switchCounter-1)\n",
    "                    switchCounter = 0\n",
    "                end\n",
    "                currentArm = nextArm(currentArm)\n",
    "                allowedToSwitch = false\n",
    "                timeJumps[N+1] = t+tau\n",
    "                reward -= c\n",
    "            else\n",
    "                allowedToSwitch = true\n",
    "                timeJumps[N+1] = Inf\n",
    "            end\n",
    "        else #arm changing state\n",
    "           if state[i] == 0\n",
    "              #println(\"$(t),$(currentArm): Arm $(i) switch to 1\")  \n",
    "              state[i] = 1\n",
    "              timeJumps[i] = t+rMu()\n",
    "           else #state was 1\n",
    "               #println(\"$(t),$(currentArm): Arm $(i) switch to 0\")  \n",
    "               state[i] = 0\n",
    "               timeJumps[i] = t+rLam()\n",
    "               if allowedToSwitch && state[currentArm] == 0\n",
    "                    #println(\"$(t),$(currentArm): switching from $(currentArm)\")\n",
    "                    switchCounter += 1\n",
    "                    if timeOfLastSwitchToBadArm != Inf\n",
    "                       push!(w0Cycles,t-timeOfLastSwitchToBadArm)\n",
    "                       timeOfLastSwitchToBadArm = Inf\n",
    "                    end\n",
    "                    if(state[nextArm(currentArm)] == 0)\n",
    "                       timeOfLastSwitchToBadArm = t \n",
    "                       push!(regCycles,t-prevRegTime) \n",
    "                        prevRegTime = t\n",
    "                        push!(switchCounts,switchCounter-1)\n",
    "                        switchCounter = 0\n",
    "                    end\n",
    "                    currentArm = nextArm(currentArm)\n",
    "                    allowedToSwitch = false\n",
    "                    timeJumps[N+1] = t+tau\n",
    "                    reward -= c\n",
    "               end\n",
    "           end\n",
    "       end\n",
    "    end\n",
    "\n",
    "    #println(\"mean of switch counts: \",mean(switchCounts))\n",
    "    halfIndex = Int(round(length(regCycles)/2))\n",
    "    #println(\"mean of reg cycles: \",mean(regCycles[halfIndex:length(regCycles)]))\n",
    "    \n",
    "    #println(\"mean of W0: \", mean(w0Cycles))\n",
    "    #println(\"timeInOne(32): \", timeInOne[32]/tMax)\n",
    "    \n",
    "    #println(\"megaValue: \", megaValue/(tMax*N))\n",
    "    \n",
    "    #regCycles\n",
    "    reward/tMax\n",
    "end"
   ]
  },
  {
   "cell_type": "code",
   "execution_count": null,
   "metadata": {},
   "outputs": [],
   "source": [
    "simTau(5,0.99,0.5,1,0.2,10^5)"
   ]
  },
  {
   "cell_type": "markdown",
   "metadata": {},
   "source": [
    "# Basic simulation - Belief Threshold"
   ]
  },
  {
   "cell_type": "code",
   "execution_count": 4,
   "metadata": {},
   "outputs": [
    {
     "data": {
      "text/plain": [
       "simOmega (generic function with 2 methods)"
      ]
     },
     "execution_count": 4,
     "metadata": {},
     "output_type": "execute_result"
    }
   ],
   "source": [
    "using Distributions, Random\n",
    "\n",
    "function simOmega(N,ω,lambda,mu,c,tMax, seed = 1974)\n",
    "    Random.seed!(seed)\n",
    "    state = [0 for _ in 1:N] #actual state of arms\n",
    "    allowedToSwitchTo = [true for _ in 1:N] #state of belief state of arms (true => passed the threshold)\n",
    "    currentArm = 1\n",
    "    t = 0.0\n",
    "    reward = 0.0\n",
    "    γ = lambda/(lambda+mu)\n",
    "    ω >= γ && error(\"ω is too big\")\n",
    "    implicitTau = -γ*log(1-ω/γ)\n",
    "\n",
    "    megaValue = 0.0\n",
    "    \n",
    "    rLam() = rand(Exponential(1/lambda))\n",
    "    rMu() = rand(Exponential(1/mu))\n",
    "    nextArm(i) = (i%N)+1\n",
    "    \n",
    "    #2N event types in this discrete event simulation\n",
    "    timeJumps = [rLam() for _ in 1:N] #first N events are for state change\n",
    "    append!(timeJumps,fill(implicitTau,N)) #initilize N events for \"ok to switch to arm\"\n",
    "    timeJumps[currentArm + N] = Inf\n",
    "        \n",
    "    #assumes the currentArm is bad (in 0) and searches for a better arm afterwards\n",
    "    function searchForNextArm()\n",
    "        na = nextArm(currentArm)\n",
    "        for _ in 1:N-1 #loop untill either (1) found a good arm (2) no where to switch to\n",
    "            if allowedToSwitchTo[na] #if allowed to switch - lets do it\n",
    "                timeJumps[currentArm + N] = t + implicitTau #leaving arm so set the belief update\n",
    "                allowedToSwitchTo[currentArm] = false\n",
    "                currentArm = na\n",
    "                reward -= c\n",
    "               # @show timeJumps\n",
    "                if state[currentArm] == 1 #we are happy and leave\n",
    "                    break\n",
    "                end\n",
    "            end\n",
    "            na = nextArm(na)\n",
    "        end\n",
    "        timeJumps[currentArm + N] = Inf\n",
    "    end\n",
    "    \n",
    "    while t<tMax\n",
    "       tLast = t \n",
    "       t,i = findmin(timeJumps)\n",
    "       reward += state[currentArm]*(t-tLast)\n",
    "        if i >= N+1 #pass the omega threshold event\n",
    "            allowedToSwitchTo[i-N] = true \n",
    "            if state[currentArm] == 0\n",
    "                searchForNextArm()\n",
    "            else\n",
    "                timeJumps[i] = Inf\n",
    "            end\n",
    "        else #arm i is changing state event\n",
    "           if state[i] == 0\n",
    "              state[i] = 1\n",
    "              timeJumps[i] = t + rMu()\n",
    "           else #state was 1\n",
    "                state[i] = 0\n",
    "                timeJumps[i] = t + rLam()\n",
    "                if allowedToSwitchTo[nextArm(currentArm)] && state[currentArm] == 0\n",
    "                    searchForNextArm()\n",
    "                end\n",
    "           end\n",
    "       end\n",
    "    end\n",
    "\n",
    "    reward/tMax\n",
    "end"
   ]
  },
  {
   "cell_type": "code",
   "execution_count": null,
   "metadata": {},
   "outputs": [],
   "source": [
    "simOmega(5,0.333,0.5,1,0.2,10^5)"
   ]
  },
  {
   "cell_type": "code",
   "execution_count": null,
   "metadata": {},
   "outputs": [],
   "source": [
    "simOmega(2,0.3,1,1/0.4-1,0.005,10^4)"
   ]
  },
  {
   "cell_type": "markdown",
   "metadata": {},
   "source": [
    "## case I (full observation)"
   ]
  },
  {
   "cell_type": "code",
   "execution_count": 3,
   "metadata": {},
   "outputs": [
    {
     "data": {
      "text/plain": [
       "caseIg (generic function with 1 method)"
      ]
     },
     "execution_count": 3,
     "metadata": {},
     "output_type": "execute_result"
    }
   ],
   "source": [
    "function caseIg(n,gamma,c)\n",
    "    if c > gamma\n",
    "        gamma\n",
    "    else\n",
    "        1-(1-gamma).^n-c.*(1-gamma-(1-gamma).^n)/gamma\n",
    "    end\n",
    "end"
   ]
  },
  {
   "cell_type": "markdown",
   "metadata": {},
   "source": [
    "## case II (partial observation ∞)"
   ]
  },
  {
   "cell_type": "code",
   "execution_count": 6,
   "metadata": {},
   "outputs": [
    {
     "data": {
      "text/plain": [
       "caseIIgInfty (generic function with 1 method)"
      ]
     },
     "execution_count": 6,
     "metadata": {},
     "output_type": "execute_result"
    }
   ],
   "source": [
    "function caseIIgInfty(gamma,c)\n",
    "    if c > gamma^2\n",
    "        gamma\n",
    "    else\n",
    "        1- c.*(1-gamma)/gamma.^2\n",
    "    end\n",
    "end"
   ]
  },
  {
   "cell_type": "code",
   "execution_count": 27,
   "metadata": {},
   "outputs": [
    {
     "name": "stdout",
     "output_type": "stream",
     "text": [
      "nn = 2\n",
      "nn = 3\n",
      "nn = 4\n"
     ]
    }
   ],
   "source": [
    "gamma = 0.4;\n",
    "lambda = 1; mu = 1/gamma - 1;\n",
    "tMax = 10^5\n",
    "\n",
    "tauGrid = union(0.001:0.001:1.55,Inf)\n",
    "cGrid = union(0.001:0.005:0.16)\n",
    "# cGrid = union(0.001:0.005:0.195)\n",
    "# cGrid = union(0.001:0.005:0.195, 0.2:0.001:0.5)\n",
    "# nGrid = [2,3,4,20] \n",
    "nGrid = [2,3,4] \n",
    "# nGrid = 20\n",
    "\n",
    "g_star = zeros(length(nGrid),length(cGrid))\n",
    "index_star = zeros(length(nGrid),length(cGrid))\n",
    "\n",
    "g_star_caseI = zeros(length(nGrid),length(cGrid))\n",
    "\n",
    "for (ni,nn) in enumerate(nGrid)\n",
    "    println(\"nn = $nn\")\n",
    "    for (ci,c) in enumerate(cGrid)\n",
    "        vals = [simTau(nn,tau,lambda,mu,c,tMax) for tau in tauGrid]\n",
    "        g, i = findmax(vals)\n",
    "        #####################\n",
    "        # function sim_g_tau(tau)\n",
    "        #    y = -sim(nn,tau,lambda,mu,c,tMax)\n",
    "        #    return y\n",
    "        # end\n",
    "        # tau, g = searchMax(sim_g_tau)\n",
    "        # g = max(g, sim(nn,Inf,lambda,mu,c,tMax))\n",
    "        #####################\n",
    "        # println(\"c = $(c) \\t g = $(g) \\t tau = $(tau)\")\n",
    "        # println(\"c = $(c) \\t g = $(g) \\t tau = $(tauGrid[i])\")\n",
    "        g_star[ni,ci] = g\n",
    "        index_star[ni,ci] = i\n",
    "        g_star_caseI[ni,ci] = caseIg(nn,gamma,c) \n",
    "    end\n",
    "end"
   ]
  },
  {
   "cell_type": "code",
   "execution_count": 18,
   "metadata": {},
   "outputs": [
    {
     "data": {
      "text/plain": [
       "0.5784375034845015"
      ]
     },
     "execution_count": 18,
     "metadata": {},
     "output_type": "execute_result"
    }
   ],
   "source": [
    "g_star[1,3]"
   ]
  },
  {
   "cell_type": "code",
   "execution_count": 19,
   "metadata": {},
   "outputs": [
    {
     "name": "stdout",
     "output_type": "stream",
     "text": [
      "nn = 2\n",
      "nn = 3\n",
      "nn = 4\n"
     ]
    }
   ],
   "source": [
    "gamma = 0.4;\n",
    "lambda = 1; mu = 1/gamma - 1;\n",
    "tMax = 10^5\n",
    "\n",
    "OmegaGrid = union(0.001:0.001:gamma-0.005)\n",
    "cGrid = union(0.001:0.005:0.16)\n",
    "# cGrid = union(0.001:0.005:0.195, 0.2:0.001:0.5)\n",
    "# nGrid = [2,3,4,20] \n",
    "nGrid = [2,3,4] \n",
    "# nGrid = 20\n",
    "\n",
    "g_star_caseII_omega = zeros(length(nGrid),length(cGrid))\n",
    "index_star_caseII_omega = zeros(length(nGrid),length(cGrid))\n",
    "\n",
    "for (ni,nn) in enumerate(nGrid)\n",
    "    println(\"nn = $nn\")\n",
    "    for (ci,c) in enumerate(cGrid)\n",
    "        vals = [simOmega(nn,ω,lambda,mu,c,tMax) for ω in OmegaGrid]\n",
    "        g, i = findmax(vals)\n",
    "        g_star_caseII_omega[ni,ci] = g\n",
    "        index_star_caseII_omega[ni,ci] = i\n",
    "    end\n",
    "end"
   ]
  },
  {
   "cell_type": "markdown",
   "metadata": {},
   "source": [
    "### Saving the simulation results in file"
   ]
  },
  {
   "cell_type": "code",
   "execution_count": null,
   "metadata": {},
   "outputs": [],
   "source": [
    "cGrid = union(0.001:0.005:0.195, 0.2:0.001:0.5);\n",
    "cGrid = union(0, cGrid);\n",
    "caseIg_0 = [caseIg(nn,gamma,0) for nn in nGrid]\n",
    "g_star = hcat(caseIg_0,g_star)\n",
    "g_star_caseI = hcat(caseIg_0,g_star_caseI)"
   ]
  },
  {
   "cell_type": "code",
   "execution_count": null,
   "metadata": {},
   "outputs": [],
   "source": [
    "outFile = open(\"gStarDataCase20II.jl\",\"w\")\n",
    "\n",
    "# Maybe also save the gamma and other stuff in the fi\n",
    "\n",
    "println(outFile,\"cGrid = $cGrid\")\n",
    "println(outFile,\"nGrid = $nGrid\")\n",
    "println(outFile,\"g_star_20 = $g_star\")\n",
    "println(outFile,\"g_star_caseI_20 = $g_star_caseI\")\n",
    "close(outFile)"
   ]
  },
  {
   "cell_type": "code",
   "execution_count": null,
   "metadata": {},
   "outputs": [],
   "source": [
    "outFile = open(\"gStarOmegaCaseII.jl\",\"w\")\n",
    "\n",
    "# Maybe also save the gamma and other stuff in the fi\n",
    "\n",
    "println(outFile,\"cGrid = $cGrid\")\n",
    "println(outFile,\"nGrid = $nGrid\")\n",
    "println(outFile,\"g_star_omega = $g_star_caseII_omega\")\n",
    "close(outFile)"
   ]
  },
  {
   "cell_type": "code",
   "execution_count": null,
   "metadata": {},
   "outputs": [],
   "source": [
    "outFile = open(\"gStarDataCase.jl\",\"w\")\n",
    "\n",
    "# Maybe also save the gamma and other stuff in the fi\n",
    "\n",
    "println(outFile,\"cGrid = $cGrid\")\n",
    "println(outFile,\"nGrid = $nGrid\")\n",
    "println(outFile,\"g_star_20 = $g_star\")\n",
    "println(outFile,\"g_star_caseI_20 = $g_star_caseI\")\n",
    "close(outFile)"
   ]
  },
  {
   "cell_type": "code",
   "execution_count": 23,
   "metadata": {},
   "outputs": [],
   "source": [
    "outFile = open(\"giStarOmegaCaseII.jl\",\"w\")\n",
    "\n",
    "# Maybe also save the gamma and other stuff in the fi\n",
    "\n",
    "println(outFile,\"cGrid = $cGrid\")\n",
    "println(outFile,\"nGrid = $nGrid\")\n",
    "println(outFile,\"g_star_omega = $g_star_caseII_omega\")\n",
    "println(outFile,\"index_star_caseII_omega = $index_star_caseII_omega\")\n",
    "close(outFile)"
   ]
  },
  {
   "cell_type": "code",
   "execution_count": 28,
   "metadata": {},
   "outputs": [],
   "source": [
    "outFile = open(\"giStarTauCaseII.jl\",\"w\")\n",
    "\n",
    "# Maybe also save the gamma and other stuff in the fi\n",
    "\n",
    "println(outFile,\"cGrid = $cGrid\")\n",
    "println(outFile,\"nGrid = $nGrid\")\n",
    "println(outFile,\"g_star = $g_star\")\n",
    "println(outFile,\"index_star = $index_star\")\n",
    "close(outFile)"
   ]
  },
  {
   "cell_type": "markdown",
   "metadata": {},
   "source": [
    "## Plots of case I and II for $n = 2,3,4,20$"
   ]
  },
  {
   "cell_type": "code",
   "execution_count": 51,
   "metadata": {},
   "outputs": [
    {
     "data": {
      "image/png": "[encoded data removed]"
     },
     "execution_count": 51,
     "metadata": {},
     "output_type": "execute_result"
    }
   ],
   "source": [
    "using Plots, LaTeXStrings; pyplot()\n",
    "gamma = 0.4;\n",
    "include(\"gStarDataCaseI&II.jl\")\n",
    "#plot(cGrid, g_star_caseI', label = hcat(nGrid...), c = [:magenta :magenta :magenta :magenta],linestyle=[:dash :solid :dashdot],\n",
    "#    ylim = (0.3,1),xlabel = \"c\", ylabel = \"g\")\n",
    "plot(cGrid, g_star_caseI', c = [:red :red :red :red],linestyle=[:dot :dash :dashdot],\n",
    "    ylim = (0.3,1),xlabel = \"switching cost c\", ylabel = \"averag reward g\")\n",
    "caseIgInf = [caseIg(100,gamma,c) for c in cGrid];\n",
    "#plot!(cGrid,caseIgInf,label=\"∞\",c = :magenta, linestyle = :dot,\n",
    "#    ylim = (0.3,1))\n",
    "plot!(cGrid,caseIgInf, c = :red, linestyle = :solid,\n",
    "    ylim = (0.3,1))\n",
    "############################\n",
    "gSize = size(g_star)\n",
    "plot!(cGrid,g_star'+[ones(1, gSize[2])*0.0025; zeros(2,gSize[2])]',label = hcat(nGrid...),c = [:blue :blue :blue], linestyle=[:dot :dash :dashdot],\n",
    "    linewidth = 0.9, ylim = (0.3,1))\n",
    "caseIIgInf = [caseIIgInfty(gamma,c) for c in cGrid];\n",
    "#plot!(cGrid,caseIIgInf,label=\"∞\",c = :blue, linestyle = :dot,\n",
    "#    ylim = (0.3,1))\n",
    "plot!(cGrid,caseIIgInf.+0.0035,c = :blue, linestyle = :solid,\n",
    "    ylim = (0.3,1))\n",
    "############################\n",
    "include(\"gStarOmegaCaseII.jl\")\n",
    "cGrid = union(0, cGrid); \n",
    "caseIg_0 = [caseIg(nn,gamma,0) for nn in nGrid]\n",
    "g_star_omega = hcat(caseIg_0,g_star_omega)\n",
    "sIndex = findall(g_star_omega.< gamma);\n",
    "g_star_omega[sIndex] = [gamma for i in 1:length(sIndex)];\n",
    "#plot!(cGrid,g_star_omega',label = hcat(nGrid...),c = [:cyan :cyan :cyan], linestyle=[:dot :dash :dashdot],\n",
    "#    ylim = (0.3,1))\n",
    "plot!(cGrid,g_star_omega',c = [:green :green :green], linestyle=[:dot :dash :dashdot],\n",
    "    ylim = (0.3,1))\n",
    "caseIIgInf = [caseIIgInfty(gamma,c) for c in cGrid];\n",
    "#plot!(cGrid,caseIIgInf,label=\"∞\",c = :cyan, linestyle = :dot,\n",
    "#   ylim = (0.3,1))\n",
    "plot!(cGrid,caseIIgInf,c = :green, linestyle = :solid, linewidth = 0.6,\n",
    "   ylim = (0.3,1))"
   ]
  },
  {
   "cell_type": "code",
   "execution_count": 52,
   "metadata": {},
   "outputs": [],
   "source": [
    "savefig(\"gAsFunctionOfCMultiple.pdf\")"
   ]
  },
  {
   "cell_type": "code",
   "execution_count": 4,
   "metadata": {},
   "outputs": [
    {
     "ename": "ErrorException",
     "evalue": "could not open file /Users/jiesenw/Dropbox/1 Peter/assorted/untitled folder/ChannelSelection/giStarTauCaseII.jl",
     "output_type": "error",
     "traceback": [
      "could not open file /Users/jiesenw/Dropbox/1 Peter/assorted/untitled folder/ChannelSelection/giStarTauCaseII.jl",
      "",
      "Stacktrace:",
      " [1] include(::String) at ./client.jl:457",
      " [2] top-level scope at In[4]:3"
     ]
    }
   ],
   "source": [
    "using Plots, LaTeXStrings; pyplot()\n",
    "delta = 0.001;\n",
    "include(\"giStarTauCaseII.jl\")\n",
    "plot(cGrid, index_star'.*delta', label = \"call gapping\", c = [:blue :blue :blue], linestyle=[:dot :dash :dashdot],\n",
    "    ylim = (0,2),xlabel = \"c\", ylabel = \"τ\")\n",
    "include(\"giStarOmegaCaseII.jl\")\n",
    "σ = -gamma.*log.(1 .- (index_star_caseII_omega.*delta)./gamma);\n",
    "plot!(cGrid, σ', label = \"cool off\", c = [:cyan :cyan :cyan], linestyle=[:dot :dash :dashdot],\n",
    "    ylim = (0,2),xlabel = \"c\", ylabel = \"τ\")"
   ]
  },
  {
   "cell_type": "code",
   "execution_count": 8,
   "metadata": {},
   "outputs": [
    {
     "data": {
      "image/png": "[encoded data removed]"
     },
     "execution_count": 8,
     "metadata": {},
     "output_type": "execute_result"
    }
   ],
   "source": [
    "using Plots, LaTeXStrings; pyplot()\n",
    "\n",
    "#This is the plot of case II (other channels not observable)\"\"\n",
    "include(\"gStarOmegaCaseII.jl\")\n",
    "plot(cGrid, g_star_omega', label = hcat(nGrid...), c = [:red :red :red :red],\n",
    "    ylim = (0.3,1),xlabel = \"c\", ylabel = \"g\")\n",
    "include(\"gStarDataCaseI&II.jl\")\n",
    "plot!(cGrid, g_star', label = hcat(nGrid...), c = [:black :black :black :black],\n",
    "    ylim = (0.3,1),xlabel = \"c\", ylabel = \"g\")"
   ]
  },
  {
   "cell_type": "code",
   "execution_count": 71,
   "metadata": {},
   "outputs": [
    {
     "data": {
      "image/png": "[encoded data removed]"
     },
     "execution_count": 71,
     "metadata": {},
     "output_type": "execute_result"
    }
   ],
   "source": [
    "using Plots, LaTeXStrings; pyplot()\n",
    "\n",
    "#This is the plot of case II (other channels not observable)\"\"\n",
    "include(\"gStarDataCase20II.jl\")\n",
    "plot(cGrid, g_star_20', ylim = (0.3,1),xlabel = \"c\", ylabel = \"g\")\n",
    "#This is the plot of case I (both channels are observable)\n",
    "plot!(cGrid,g_star_caseI_20')"
   ]
  },
  {
   "cell_type": "code",
   "execution_count": 11,
   "metadata": {},
   "outputs": [
    {
     "data": {
      "image/png": "[encoded data removed]"
     },
     "execution_count": 11,
     "metadata": {},
     "output_type": "execute_result"
    }
   ],
   "source": [
    "using Plots, LaTeXStrings; pyplot()\n",
    "\n",
    "#This is the plot of case II (other channels not observable)\"\"\n",
    "include(\"gStarOmegaCaseII.jl\")\n",
    "plot(cGrid, g_star_omega', label = hcat(nGrid...),c = [:cyan :cyan :cyan :cyan],linestyle=[:dash :dot :dashdot :dashdotdot],\n",
    "    ylim = (0.3,1),xlabel = \"c\", ylabel = \"g\")\n",
    "include(\"gStarDataCaseI&II.jl\")\n",
    "plot!(cGrid, g_star', label = hcat(nGrid...),c = [:blue :blue :blue :blue],linestyle=[:dash :dot :dashdot :dashdotdot],\n",
    "    ylim = (0.3,1),xlabel = \"c\", ylabel = \"g\")"
   ]
  },
  {
   "cell_type": "code",
   "execution_count": 72,
   "metadata": {},
   "outputs": [
    {
     "data": {
      "image/png": "[encoded data removed]"
     },
     "execution_count": 72,
     "metadata": {},
     "output_type": "execute_result"
    }
   ],
   "source": [
    "using Plots, LaTeXStrings; pyplot()\n",
    "\n",
    "#This is the plot of case II (other channels not observable)\"\"\n",
    "include(\"gStarDataCaseI&II.jl\")\n",
    "plot(cGrid, g_star', label = hcat(nGrid...), c = [:red :red :red :red],\n",
    "    ylim = (0.3,1),xlabel = \"c\", ylabel = \"g\")\n",
    "#This is the plot of case I (both channels are observable)\n",
    "plot!(cGrid,g_star_caseI',label = hcat(nGrid...),c = [:black :black :black :black])\n",
    "\n",
    "include(\"gStarDataCase20II.jl\")\n",
    "plot!(cGrid, g_star_20', label = 20, c = :red, ylim = (0.3,1),xlabel = \"c\", ylabel = \"g\")\n",
    "plot!(cGrid,g_star_caseI_20', label = 20, c = :black)"
   ]
  },
  {
   "cell_type": "code",
   "execution_count": null,
   "metadata": {},
   "outputs": [],
   "source": [
    "savefig(\"gAsFunctionOfCMultiple.pdf\")"
   ]
  },
  {
   "cell_type": "markdown",
   "metadata": {},
   "source": [
    "## Compare simulation with $g$ expression when $n = 2$"
   ]
  },
  {
   "cell_type": "code",
   "execution_count": null,
   "metadata": {},
   "outputs": [],
   "source": [
    "function average_reward_g(tau, gamma, c)\n",
    "    g = (2*exp(tau/gamma)*(-1+gamma)^2*gamma^2+(3-2*gamma)*gamma^3+(-1+gamma)*gamma*(c-tau*gamma)-exp(2*tau/gamma)*(-2+gamma)*(-gamma^2+(-1+gamma)*(-c+tau*gamma)*lambda))/(-gamma*((-2+gamma)*gamma+tau*(-1+gamma))+exp(2*tau/gamma)*(-2+gamma)*(gamma^2+tau-tau*gamma))\n",
    "    return g\n",
    "end"
   ]
  },
  {
   "cell_type": "code",
   "execution_count": null,
   "metadata": {},
   "outputs": [],
   "source": [
    "using Roots\n",
    "\n",
    "function tauStarFun(gamma, c)\n",
    "    tauFun =  function(x)\n",
    "                return exp(2*x/gamma)*(gamma^2-c)*(gamma-2)+2*exp(x/gamma)*gamma*(gamma-x*(gamma-1))-gamma*(gamma^2-c)\n",
    "            end\n",
    "    return tauFun\n",
    "end\n",
    "\n",
    "\n",
    "## An illustration example\n",
    "gamma = 0.4\n",
    "c = 0.08\n",
    "\n",
    "tauFun = tauStarFun(gamma, c)\n",
    "zeroVals = find_zeros(tauFun,0,10)\n",
    "println(\"tau*: \", zeroVals)\n",
    "tau = zeroVals[1]\n",
    "g_max = average_reward_g(tau, gamma,c)\n",
    "println(\"g*: \", g_max)"
   ]
  },
  {
   "cell_type": "code",
   "execution_count": null,
   "metadata": {},
   "outputs": [],
   "source": [
    "g_star_expression_2 = ones(1,length(cGrid))*gamma\n",
    "\n",
    "for (ci,c) in enumerate(cGrid)\n",
    "    tauFun = tauStarFun(gamma, c)\n",
    "    zeroVals = find_zeros(tauFun,0,10)\n",
    "    if (zeroVals != [])\n",
    "        tau = zeroVals[1]\n",
    "        g_max = average_reward_g(tau, gamma,c)\n",
    "        g_star_expression_2[ci] = g_max\n",
    "    end\n",
    "end\n",
    "\n",
    "include(\"gStarDataCaseI&II.jl\")\n",
    "plot(g_star[1,:], c = [:red],\n",
    "    ylim = (0.3,1),xlabel = \"c\", ylabel = \"g\")\n",
    "plot!(g_star_expression_2',c = [:blue])"
   ]
  },
  {
   "cell_type": "markdown",
   "metadata": {},
   "source": [
    "# Basic simulation-2\n",
    "The belief state is always $\\gamma$"
   ]
  },
  {
   "cell_type": "code",
   "execution_count": null,
   "metadata": {
    "scrolled": true
   },
   "outputs": [],
   "source": [
    "arr = [22]\n",
    "push!(arr,3523)"
   ]
  },
  {
   "cell_type": "code",
   "execution_count": null,
   "metadata": {},
   "outputs": [],
   "source": [
    "function simIdeal(tau,lambda,mu,c,tMax,seed= 1974)\n",
    "    Random.seed!(seed)\n",
    "    state = 0\n",
    "    allowedToSwitch = false\n",
    "    t = 0.0\n",
    "    reward = 0.0\n",
    "\n",
    "    rLam() = rand(Exponential(1/lambda))\n",
    "    rMu() = rand(Exponential(1/mu))\n",
    "    rState() = rand() < lambda/(lambda+mu) ? 1  : 0 \n",
    "    \n",
    "    #event of changing state of arm \n",
    "    #event of call-gap-timer expiring\n",
    "    timeJumps = [rLam() for _ in 1:1] \n",
    "    push!(timeJumps,tau) #The last one is for the call gapping\n",
    "\n",
    "    while t<tMax\n",
    "       tLast = t \n",
    "       t,i = findmin(timeJumps)\n",
    "       #println(\"t: \", t, \"  i: \", i, \" state: \",state)\n",
    "        \n",
    "       reward += state*(t-tLast)\n",
    "        \n",
    "       if i == 2 #call gapping timer up\n",
    "            if state == 0\n",
    "                reward -= c\n",
    "                state = rState()\n",
    "                timeJumps[1] = t + (state==0 ? rLam() : rMu() )\n",
    "                timeJumps[2] = t + tau\n",
    "                allowedToSwitch = false\n",
    "            else\n",
    "                allowedToSwitch = true\n",
    "                timeJumps[2] = Inf\n",
    "            end\n",
    "        else #changing state\n",
    "           if state == 0\n",
    "              state = 1\n",
    "              timeJumps[1] = t+rMu()\n",
    "           else #state was 1\n",
    "               state = 0\n",
    "               timeJumps[1] = t+rLam()\n",
    "               if allowedToSwitch\n",
    "                    reward -= c\n",
    "                    state = rState()\n",
    "                    timeJumps[1] = t + (state==0 ? rLam() : rMu() )\n",
    "                    timeJumps[2] = t + tau\n",
    "                    allowedToSwitch = false\n",
    "                end\n",
    "           end\n",
    "       end\n",
    "    end\n",
    "\n",
    "    reward/tMax\n",
    "end"
   ]
  },
  {
   "cell_type": "code",
   "execution_count": null,
   "metadata": {},
   "outputs": [],
   "source": [
    "using Plots\n",
    "gamma = 0.4\n",
    "lambda,mu = 1.0, (1-gamma)/gamma\n",
    "c= 0.18\n",
    "tau = 0.01\n",
    "tMax = 10^5;\n",
    "ideal = simIdeal(tau,lambda,mu,c,tMax)\n",
    "manyArms = sim(2,tau,lambda,mu,c,tMax)\n",
    "#plt[:hist](data,100)\n",
    "ideal,manyArms"
   ]
  },
  {
   "cell_type": "markdown",
   "metadata": {},
   "source": [
    "# A quick attempt\n",
    "\n",
    "This is a plot of the reward for N=3,4,5 (\"r\",\"g\",\"y\" coloured) with varying the gap..."
   ]
  },
  {
   "cell_type": "code",
   "execution_count": null,
   "metadata": {},
   "outputs": [],
   "source": [
    "using PyPlot\n",
    "gGrid = 0.01:0.001:1\n",
    "vals2 = [sim(2,g,lambda,mu,c,tMax) for g in gGrid]\n",
    "vals3 = [sim(3,tau,lambda,mu,c,tMax) for tau in gGrid]\n",
    "vals4 = [sim(4,g,lambda,mu,c,tMax) for g in gGrid]\n",
    "vals5 = [sim(5,g,lambda,mu,c,tMax) for g in gGrid]\n",
    "plot(gGrid,vals2,\"b\") \n",
    "plot(gGrid,vals3,\"r\")\n",
    "plot(gGrid,vals4,\"g\")\n",
    "plot(gGrid,vals5,\"y\")"
   ]
  },
  {
   "cell_type": "code",
   "execution_count": null,
   "metadata": {},
   "outputs": [],
   "source": [
    "OptimalTauD.m\n",
    "main.m\n",
    "average_reward_renewal_reward.mxVals = tauGrid\n",
    "yVals = vals\n",
    "\n",
    "n = 8\n",
    "m = length(xVals)\n",
    "ind = 1:Int(ceil(m/(n))):m\n",
    "xVals = tauGrid[ind]\n",
    "yVals = vals[ind]\n",
    "\n",
    "V = [xVals[i+1]^(j) for i in 0:n-1, j in 0:n-1]\n",
    "c = V\\yVals\n",
    "\n",
    "f1(x) = c'*[x^i for i in 0:n-1]\n",
    "\n",
    "plot(tauGrid, vals)\n",
    "plot!(tauGrid, f1.(tauGrid))"
   ]
  },
  {
   "cell_type": "markdown",
   "metadata": {},
   "source": [
    "## Notes"
   ]
  },
  {
   "cell_type": "code",
   "execution_count": null,
   "metadata": {},
   "outputs": [],
   "source": [
    "using Polynomials, Roots\n",
    "c = 0.02;\n",
    "gamma = 0.4;\n",
    "lambda = 1; mu = 1/gamma - 1;\n",
    "tMax = 10^3\n",
    "tauGrid = union(0.01:0.01:2,Inf)\n",
    "nn = 2\n",
    "vals = [sim(nn,tau,lambda,mu,c,tMax) for tau in tauGrid];"
   ]
  },
  {
   "cell_type": "code",
   "execution_count": null,
   "metadata": {},
   "outputs": [],
   "source": [
    "using Polynomials\n",
    "p = polyfit(cGrid, g_star'[:,1], 8)\n",
    "plot(cGrid,p.(cGrid))\n",
    "plot!(cGrid, g_star'[:,1])"
   ]
  },
  {
   "cell_type": "code",
   "execution_count": null,
   "metadata": {},
   "outputs": [],
   "source": [
    "using Roots\n",
    "find_zeros(polyder(p,1),0,10)"
   ]
  },
  {
   "cell_type": "code",
   "execution_count": null,
   "metadata": {},
   "outputs": [],
   "source": [
    "myF(x) = x <= 1 ? x*(1-x) + 5 : 5/(x) "
   ]
  },
  {
   "cell_type": "code",
   "execution_count": null,
   "metadata": {},
   "outputs": [],
   "source": [
    "using Plots, LaTeXStrings; pyplot()\n",
    "xGrid = 0:0.01:5\n",
    "plot(xGrid,myF.(xGrid))"
   ]
  },
  {
   "cell_type": "code",
   "execution_count": null,
   "metadata": {},
   "outputs": [],
   "source": [
    "function fibonacci_search(inF, a, b, n; epsilon=0.01)\n",
    "    phi = (1+sqrt(5))/2\n",
    "    s = (1-sqrt(5))/(1+sqrt(5))\n",
    "    rho = 1 / (phi*(1-s^(n+1))/(1-s^n))\n",
    "    d = rho*b + (1-rho)*a\n",
    "    yd = inF(d)\n",
    "    for i in 1 : n-1\n",
    "        if i == n-1\n",
    "            c = epsilon*a + (1-epsilon)*d\n",
    "        else\n",
    "            c = rho*a + (1-rho)*b\n",
    "        end\n",
    "        yc = inF(c)\n",
    "        if yc > yd\n",
    "            b, d, yd = d, c, yc\n",
    "        else\n",
    "            a, b = b, c\n",
    "        end\n",
    "        rho = 1 / (phi*(1-s^(n-i+1))/(1-s^(n-i)))\n",
    "    end\n",
    "    return a < b ? (a, b) : (b, a)\n",
    "end"
   ]
  },
  {
   "cell_type": "code",
   "execution_count": null,
   "metadata": {},
   "outputs": [],
   "source": [
    "function searchMax_1(inF)\n",
    "    g, i = findmax(inF.(xGrid))\n",
    "    g, xGrid[i]\n",
    "end"
   ]
  },
  {
   "cell_type": "code",
   "execution_count": null,
   "metadata": {},
   "outputs": [],
   "source": [
    "function searchMax(inF)\n",
    "    \n",
    "    ##### BAD - wrong... replace with Fibonnaci search (or Golden Section.... )\n",
    "    a, b, n = 0, 6, 2\n",
    "    while abs(b-a) > 0.0001\n",
    "        a, b = fibonacci_search(inF, a, b, n; epsilon=0.0001)\n",
    "        n = n + 1 \n",
    "    end\n",
    "    return b, inF(b)\n",
    "end"
   ]
  },
  {
   "cell_type": "code",
   "execution_count": null,
   "metadata": {},
   "outputs": [],
   "source": [
    "searchMax_1(myF)"
   ]
  },
  {
   "cell_type": "code",
   "execution_count": null,
   "metadata": {},
   "outputs": [],
   "source": [
    "searchMax(myF)"
   ]
  },
  {
   "cell_type": "code",
   "execution_count": null,
   "metadata": {},
   "outputs": [],
   "source": [
    "c = 0.1;\n",
    "gamma = 0.4;\n",
    "lambda = 1; mu = 1/gamma - 1;\n",
    "tMax = 10^4\n",
    "nn = 2\n",
    "function sim_g_tau(tau)   \n",
    "    y = -sim(nn,tau,lambda,mu,c,tMax)\n",
    "    return y\n",
    "end\n",
    "\n",
    "tau, g = searchMax(sim_g_tau)\n",
    "g = max(g, sim(nn,Inf,lambda,mu,c,tMax))"
   ]
  },
  {
   "cell_type": "code",
   "execution_count": null,
   "metadata": {},
   "outputs": [],
   "source": [
    "using Images\n",
    "\n",
    "N=2\n",
    "gamma = 0.4\n",
    "lambda,mu = 1.0, (1-gamma)/gamma\n",
    "c1= 0.08\n",
    "tau = \n",
    "tMax = 10^5;\n",
    "gGrid = 0.01:0.001:1.0\n",
    "vals1 = [sim(N,g,lambda,mu,c1,tMax) for g in gGrid];\n",
    "#vals2 = [sim(N,g,lambda,mu,c2,tMax) for g in gGrid];"
   ]
  },
  {
   "cell_type": "code",
   "execution_count": null,
   "metadata": {},
   "outputs": [],
   "source": [
    "hcat(nGrid...)"
   ]
  },
  {
   "cell_type": "code",
   "execution_count": null,
   "metadata": {},
   "outputs": [],
   "source": [
    "(21%20)+1"
   ]
  },
  {
   "cell_type": "code",
   "execution_count": null,
   "metadata": {},
   "outputs": [],
   "source": [
    "using Distributions\n",
    "rLam() = rand(Exponential(1/lambda))"
   ]
  },
  {
   "cell_type": "code",
   "execution_count": null,
   "metadata": {},
   "outputs": [],
   "source": [
    "using StatsBase, Distributions, PyPlot\n",
    "\n",
    "lambda, N = 1, 10^6\n",
    "xGrid = 0:6\n",
    "\n",
    "expDist = Exponential(1/lambda)\n",
    "floorData = counts(convert.(Int,floor.(rand(expDist,N))), xGrid)/N\n",
    "geomDist = Geometric(1-MathConstants.e^-lambda)\n",
    "\n",
    "stem(xGrid,floorData,label=\"Floor of Exponential\",basefmt=\"none\")\n",
    "plot(xGrid,pdf(geomDist,xGrid),\"rx\",ms=8,label=\"Analytic Geometric\")\n",
    "ylim(0,1)\n",
    "xlabel(\"x\")\n",
    "ylabel(\"Probability\")\n",
    "legend(loc=\"upper right\")\n",
    "© 2019 GitHub, Inc."
   ]
  },
  {
   "cell_type": "code",
   "execution_count": null,
   "metadata": {},
   "outputs": [],
   "source": [
    "state = [0 for _ in 1:10]"
   ]
  },
  {
   "cell_type": "code",
   "execution_count": null,
   "metadata": {},
   "outputs": [],
   "source": [
    "state[1]"
   ]
  },
  {
   "cell_type": "code",
   "execution_count": null,
   "metadata": {},
   "outputs": [],
   "source": [
    "using Distributions\n",
    "rLam() = rand(Exponential(1/lambda))\n",
    "rMu() = rand(Exponential(1/mu))\n",
    "timeJumps = [rLam() for _ in 1:5] "
   ]
  },
  {
   "cell_type": "code",
   "execution_count": null,
   "metadata": {},
   "outputs": [],
   "source": [
    "timeJumps[5]"
   ]
  },
  {
   "cell_type": "code",
   "execution_count": null,
   "metadata": {},
   "outputs": [],
   "source": []
  }
 ],
 "metadata": {
  "@webio": {
   "lastCommId": null,
   "lastKernelId": null
  },
  "kernelspec": {
   "display_name": "Julia 1.5.1",
   "language": "julia",
   "name": "julia-1.5"
  },
  "language_info": {
   "file_extension": ".jl",
   "mimetype": "application/julia",
   "name": "julia",
   "version": "1.5.1"
  }
 },
 "nbformat": 4,
 "nbformat_minor": 2
}
